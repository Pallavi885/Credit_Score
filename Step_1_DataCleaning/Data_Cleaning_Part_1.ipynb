{
 "cells": [
  {
   "cell_type": "code",
   "execution_count": 86,
   "id": "9cf210b5",
   "metadata": {},
   "outputs": [],
   "source": [
    "import pandas as pd\n",
    "import numpy as np\n",
    "import warnings\n",
    "warnings.filterwarnings(\"ignore\")\n",
    "import statistics\n",
    "import seaborn as sns"
   ]
  },
  {
   "cell_type": "code",
   "execution_count": 2,
   "id": "6a1b751d",
   "metadata": {},
   "outputs": [
    {
     "data": {
      "text/html": [
       "<div>\n",
       "<style scoped>\n",
       "    .dataframe tbody tr th:only-of-type {\n",
       "        vertical-align: middle;\n",
       "    }\n",
       "\n",
       "    .dataframe tbody tr th {\n",
       "        vertical-align: top;\n",
       "    }\n",
       "\n",
       "    .dataframe thead th {\n",
       "        text-align: right;\n",
       "    }\n",
       "</style>\n",
       "<table border=\"1\" class=\"dataframe\">\n",
       "  <thead>\n",
       "    <tr style=\"text-align: right;\">\n",
       "      <th></th>\n",
       "      <th>ID</th>\n",
       "      <th>Customer_ID</th>\n",
       "      <th>Month</th>\n",
       "      <th>Name</th>\n",
       "      <th>Age</th>\n",
       "      <th>SSN</th>\n",
       "      <th>Occupation</th>\n",
       "      <th>AnnualIncome</th>\n",
       "      <th>Monthly_Inhand_Salary</th>\n",
       "      <th>Num_Bank_Accounts</th>\n",
       "      <th>...</th>\n",
       "      <th>CreditMix</th>\n",
       "      <th>OutstandingDebt</th>\n",
       "      <th>Credit_Utilization_Ratio</th>\n",
       "      <th>Credit_History_Age</th>\n",
       "      <th>Payment_of_Min_Amount</th>\n",
       "      <th>Total_EMI_per_month</th>\n",
       "      <th>Amount_invested_monthly</th>\n",
       "      <th>Payment_Behaviour</th>\n",
       "      <th>Monthly_Balance</th>\n",
       "      <th>Credit_Score</th>\n",
       "    </tr>\n",
       "  </thead>\n",
       "  <tbody>\n",
       "    <tr>\n",
       "      <th>0</th>\n",
       "      <td>0x1602</td>\n",
       "      <td>CUS_0xd40</td>\n",
       "      <td>January</td>\n",
       "      <td>Aaron Maashoh</td>\n",
       "      <td>23</td>\n",
       "      <td>821-00-0265</td>\n",
       "      <td>Scientist</td>\n",
       "      <td>19114.12</td>\n",
       "      <td>1824.843333</td>\n",
       "      <td>3</td>\n",
       "      <td>...</td>\n",
       "      <td>NaN</td>\n",
       "      <td>809.98</td>\n",
       "      <td>26.822620</td>\n",
       "      <td>22 Years and 1 Months</td>\n",
       "      <td>No</td>\n",
       "      <td>49.574949</td>\n",
       "      <td>80.415295</td>\n",
       "      <td>High_spent_Small_value_payments</td>\n",
       "      <td>312.494089</td>\n",
       "      <td>Good</td>\n",
       "    </tr>\n",
       "    <tr>\n",
       "      <th>1</th>\n",
       "      <td>0x1603</td>\n",
       "      <td>CUS_0xd40</td>\n",
       "      <td>February</td>\n",
       "      <td>Aaron Maashoh</td>\n",
       "      <td>23</td>\n",
       "      <td>821-00-0265</td>\n",
       "      <td>Scientist</td>\n",
       "      <td>19114.12</td>\n",
       "      <td>NaN</td>\n",
       "      <td>3</td>\n",
       "      <td>...</td>\n",
       "      <td>Good</td>\n",
       "      <td>809.98</td>\n",
       "      <td>31.944960</td>\n",
       "      <td>NaN</td>\n",
       "      <td>No</td>\n",
       "      <td>49.574949</td>\n",
       "      <td>118.280222</td>\n",
       "      <td>Low_spent_Large_value_payments</td>\n",
       "      <td>284.629163</td>\n",
       "      <td>Good</td>\n",
       "    </tr>\n",
       "    <tr>\n",
       "      <th>2</th>\n",
       "      <td>0x1604</td>\n",
       "      <td>CUS_0xd40</td>\n",
       "      <td>March</td>\n",
       "      <td>Aaron Maashoh</td>\n",
       "      <td>500</td>\n",
       "      <td>821-00-0265</td>\n",
       "      <td>Scientist</td>\n",
       "      <td>19114.12</td>\n",
       "      <td>NaN</td>\n",
       "      <td>3</td>\n",
       "      <td>...</td>\n",
       "      <td>Good</td>\n",
       "      <td>809.98</td>\n",
       "      <td>28.609352</td>\n",
       "      <td>22 Years and 3 Months</td>\n",
       "      <td>No</td>\n",
       "      <td>49.574949</td>\n",
       "      <td>81.699521</td>\n",
       "      <td>Low_spent_Medium_value_payments</td>\n",
       "      <td>331.209863</td>\n",
       "      <td>Good</td>\n",
       "    </tr>\n",
       "    <tr>\n",
       "      <th>3</th>\n",
       "      <td>0x1605</td>\n",
       "      <td>CUS_0xd40</td>\n",
       "      <td>April</td>\n",
       "      <td>Aaron Maashoh</td>\n",
       "      <td>23</td>\n",
       "      <td>821-00-0265</td>\n",
       "      <td>Scientist</td>\n",
       "      <td>19114.12</td>\n",
       "      <td>NaN</td>\n",
       "      <td>3</td>\n",
       "      <td>...</td>\n",
       "      <td>Good</td>\n",
       "      <td>809.98</td>\n",
       "      <td>31.377862</td>\n",
       "      <td>22 Years and 4 Months</td>\n",
       "      <td>No</td>\n",
       "      <td>49.574949</td>\n",
       "      <td>199.458074</td>\n",
       "      <td>Low_spent_Small_value_payments</td>\n",
       "      <td>223.451310</td>\n",
       "      <td>Good</td>\n",
       "    </tr>\n",
       "    <tr>\n",
       "      <th>4</th>\n",
       "      <td>0x1606</td>\n",
       "      <td>CUS_0xd40</td>\n",
       "      <td>May</td>\n",
       "      <td>Aaron Maashoh</td>\n",
       "      <td>23</td>\n",
       "      <td>821-00-0265</td>\n",
       "      <td>Scientist</td>\n",
       "      <td>19114.12</td>\n",
       "      <td>1824.843333</td>\n",
       "      <td>3</td>\n",
       "      <td>...</td>\n",
       "      <td>Good</td>\n",
       "      <td>809.98</td>\n",
       "      <td>24.797347</td>\n",
       "      <td>22 Years and 5 Months</td>\n",
       "      <td>No</td>\n",
       "      <td>49.574949</td>\n",
       "      <td>41.420153</td>\n",
       "      <td>High_spent_Medium_value_payments</td>\n",
       "      <td>341.489231</td>\n",
       "      <td>Good</td>\n",
       "    </tr>\n",
       "  </tbody>\n",
       "</table>\n",
       "<p>5 rows × 28 columns</p>\n",
       "</div>"
      ],
      "text/plain": [
       "       ID Customer_ID     Month           Name  Age          SSN Occupation  \\\n",
       "0  0x1602   CUS_0xd40   January  Aaron Maashoh   23  821-00-0265  Scientist   \n",
       "1  0x1603   CUS_0xd40  February  Aaron Maashoh   23  821-00-0265  Scientist   \n",
       "2  0x1604   CUS_0xd40     March  Aaron Maashoh  500  821-00-0265  Scientist   \n",
       "3  0x1605   CUS_0xd40     April  Aaron Maashoh   23  821-00-0265  Scientist   \n",
       "4  0x1606   CUS_0xd40       May  Aaron Maashoh   23  821-00-0265  Scientist   \n",
       "\n",
       "   AnnualIncome  Monthly_Inhand_Salary  Num_Bank_Accounts  ...  CreditMix  \\\n",
       "0      19114.12            1824.843333                  3  ...        NaN   \n",
       "1      19114.12                    NaN                  3  ...       Good   \n",
       "2      19114.12                    NaN                  3  ...       Good   \n",
       "3      19114.12                    NaN                  3  ...       Good   \n",
       "4      19114.12            1824.843333                  3  ...       Good   \n",
       "\n",
       "   OutstandingDebt  Credit_Utilization_Ratio     Credit_History_Age  \\\n",
       "0           809.98                 26.822620  22 Years and 1 Months   \n",
       "1           809.98                 31.944960                    NaN   \n",
       "2           809.98                 28.609352  22 Years and 3 Months   \n",
       "3           809.98                 31.377862  22 Years and 4 Months   \n",
       "4           809.98                 24.797347  22 Years and 5 Months   \n",
       "\n",
       "   Payment_of_Min_Amount  Total_EMI_per_month  Amount_invested_monthly  \\\n",
       "0                     No            49.574949                80.415295   \n",
       "1                     No            49.574949               118.280222   \n",
       "2                     No            49.574949                81.699521   \n",
       "3                     No            49.574949               199.458074   \n",
       "4                     No            49.574949                41.420153   \n",
       "\n",
       "                  Payment_Behaviour Monthly_Balance  Credit_Score  \n",
       "0   High_spent_Small_value_payments      312.494089          Good  \n",
       "1    Low_spent_Large_value_payments      284.629163          Good  \n",
       "2   Low_spent_Medium_value_payments      331.209863          Good  \n",
       "3    Low_spent_Small_value_payments      223.451310          Good  \n",
       "4  High_spent_Medium_value_payments      341.489231          Good  \n",
       "\n",
       "[5 rows x 28 columns]"
      ]
     },
     "execution_count": 2,
     "metadata": {},
     "output_type": "execute_result"
    }
   ],
   "source": [
    "credit_data = pd.read_csv(\"train.csv\")\n",
    "credit_data.head()"
   ]
  },
  {
   "cell_type": "code",
   "execution_count": 3,
   "id": "d69a54be",
   "metadata": {},
   "outputs": [
    {
     "data": {
      "text/plain": [
       "ID                           object\n",
       "Customer_ID                  object\n",
       "Month                        object\n",
       "Name                         object\n",
       "Age                           int64\n",
       "SSN                          object\n",
       "Occupation                   object\n",
       "AnnualIncome                float64\n",
       "Monthly_Inhand_Salary       float64\n",
       "Num_Bank_Accounts             int64\n",
       "Num_Credit_Card               int64\n",
       "Interest_Rate                 int64\n",
       "NumofLoan                     int64\n",
       "Type_of_Loan                 object\n",
       "Delay_from_due_date           int64\n",
       "NumofDelayedPayment         float64\n",
       "ChangedCreditLimit          float64\n",
       "Num_Credit_Inquiries        float64\n",
       "CreditMix                    object\n",
       "OutstandingDebt             float64\n",
       "Credit_Utilization_Ratio    float64\n",
       "Credit_History_Age           object\n",
       "Payment_of_Min_Amount        object\n",
       "Total_EMI_per_month         float64\n",
       "Amount_invested_monthly     float64\n",
       "Payment_Behaviour            object\n",
       "Monthly_Balance             float64\n",
       "Credit_Score                 object\n",
       "dtype: object"
      ]
     },
     "execution_count": 3,
     "metadata": {},
     "output_type": "execute_result"
    }
   ],
   "source": [
    "credit_data.dtypes"
   ]
  },
  {
   "cell_type": "code",
   "execution_count": 4,
   "id": "70f22163",
   "metadata": {},
   "outputs": [
    {
     "data": {
      "text/plain": [
       "ID                              0\n",
       "Customer_ID                     0\n",
       "Month                           0\n",
       "Name                         9985\n",
       "Age                             0\n",
       "SSN                          5572\n",
       "Occupation                   7062\n",
       "AnnualIncome                    0\n",
       "Monthly_Inhand_Salary       15002\n",
       "Num_Bank_Accounts               0\n",
       "Num_Credit_Card                 0\n",
       "Interest_Rate                   0\n",
       "NumofLoan                       0\n",
       "Type_of_Loan                11408\n",
       "Delay_from_due_date             0\n",
       "NumofDelayedPayment          7002\n",
       "ChangedCreditLimit           2091\n",
       "Num_Credit_Inquiries         1965\n",
       "CreditMix                   20195\n",
       "OutstandingDebt                 0\n",
       "Credit_Utilization_Ratio        0\n",
       "Credit_History_Age           9030\n",
       "Payment_of_Min_Amount       12007\n",
       "Total_EMI_per_month             0\n",
       "Amount_invested_monthly      8784\n",
       "Payment_Behaviour            7600\n",
       "Monthly_Balance              1209\n",
       "Credit_Score                    0\n",
       "dtype: int64"
      ]
     },
     "execution_count": 4,
     "metadata": {},
     "output_type": "execute_result"
    }
   ],
   "source": [
    "credit_data.isnull().sum()"
   ]
  },
  {
   "cell_type": "code",
   "execution_count": 5,
   "id": "f99ba62c",
   "metadata": {},
   "outputs": [],
   "source": [
    "for i in range (len(credit_data.NumofDelayedPayment)):\n",
    "    if credit_data.NumofDelayedPayment.iloc[i]>40:\n",
    "        credit_data.NumofDelayedPayment.iloc[i]=np.nan"
   ]
  },
  {
   "cell_type": "code",
   "execution_count": 6,
   "id": "07df1fd6",
   "metadata": {},
   "outputs": [],
   "source": [
    "for i in range (len(credit_data.Num_Credit_Inquiries)):\n",
    "    if credit_data.Num_Credit_Inquiries.iloc[i]>20:\n",
    "        credit_data.Num_Credit_Inquiries.iloc[i]=np.nan"
   ]
  },
  {
   "cell_type": "code",
   "execution_count": 7,
   "id": "1a83b893",
   "metadata": {},
   "outputs": [],
   "source": [
    "for i in range (len(credit_data.Age)):\n",
    "    if credit_data.Age.iloc[i]>80:\n",
    "        credit_data.Age.iloc[i]=np.nan"
   ]
  },
  {
   "cell_type": "code",
   "execution_count": 8,
   "id": "440ae8da",
   "metadata": {},
   "outputs": [],
   "source": [
    "for i in range (len(credit_data.Num_Bank_Accounts)):\n",
    "    if credit_data.Num_Bank_Accounts.iloc[i]>10:\n",
    "        credit_data.Num_Bank_Accounts.iloc[i]=np.nan"
   ]
  },
  {
   "cell_type": "code",
   "execution_count": 9,
   "id": "440dd4be",
   "metadata": {},
   "outputs": [],
   "source": [
    "for i in range (len(credit_data.Num_Credit_Card)):\n",
    "    if credit_data.Num_Credit_Card.iloc[i]>10:\n",
    "        credit_data.Num_Credit_Card.iloc[i]=np.nan"
   ]
  },
  {
   "cell_type": "code",
   "execution_count": 10,
   "id": "cba9f644",
   "metadata": {},
   "outputs": [],
   "source": [
    "for i in range (len(credit_data.Interest_Rate)):\n",
    "    if credit_data.Interest_Rate.iloc[i]>40:\n",
    "        credit_data.Interest_Rate.iloc[i]=np.nan"
   ]
  },
  {
   "cell_type": "code",
   "execution_count": 11,
   "id": "1388c23c",
   "metadata": {},
   "outputs": [],
   "source": [
    "for i in range (len(credit_data.NumofLoan)):\n",
    "    if credit_data.NumofLoan.iloc[i]>10 or credit_data.NumofLoan.iloc[i]==0:\n",
    "        credit_data.NumofLoan.iloc[i]=np.nan"
   ]
  },
  {
   "cell_type": "code",
   "execution_count": 12,
   "id": "3a7a416d",
   "metadata": {},
   "outputs": [],
   "source": [
    "for i in range (len(credit_data.Total_EMI_per_month)):\n",
    "    if credit_data.Total_EMI_per_month.iloc[i]==0:\n",
    "        credit_data.Total_EMI_per_month.iloc[i]=np.nan"
   ]
  },
  {
   "cell_type": "code",
   "execution_count": 13,
   "id": "db8d4e7f",
   "metadata": {},
   "outputs": [
    {
     "data": {
      "text/plain": [
       "ID                              0\n",
       "Customer_ID                     0\n",
       "Month                           0\n",
       "Name                         9985\n",
       "Age                          2781\n",
       "SSN                          5572\n",
       "Occupation                   7062\n",
       "AnnualIncome                    0\n",
       "Monthly_Inhand_Salary       15002\n",
       "Num_Bank_Accounts            1324\n",
       "Num_Credit_Card              2307\n",
       "Interest_Rate                2034\n",
       "NumofLoan                   15278\n",
       "Type_of_Loan                11408\n",
       "Delay_from_due_date             0\n",
       "NumofDelayedPayment          7738\n",
       "ChangedCreditLimit           2091\n",
       "Num_Credit_Inquiries         3615\n",
       "CreditMix                   20195\n",
       "OutstandingDebt                 0\n",
       "Credit_Utilization_Ratio        0\n",
       "Credit_History_Age           9030\n",
       "Payment_of_Min_Amount       12007\n",
       "Total_EMI_per_month         10613\n",
       "Amount_invested_monthly      8784\n",
       "Payment_Behaviour            7600\n",
       "Monthly_Balance              1209\n",
       "Credit_Score                    0\n",
       "dtype: int64"
      ]
     },
     "execution_count": 13,
     "metadata": {},
     "output_type": "execute_result"
    }
   ],
   "source": [
    "credit_data.isnull().sum()"
   ]
  },
  {
   "cell_type": "code",
   "execution_count": 14,
   "id": "d5503ade",
   "metadata": {},
   "outputs": [],
   "source": [
    "credit_data.Name = credit_data.Name.where(pd.notnull(credit_data.Name), None)"
   ]
  },
  {
   "cell_type": "code",
   "execution_count": 15,
   "id": "e4cbe45f",
   "metadata": {},
   "outputs": [],
   "source": [
    "credit_data.CreditMix = credit_data.CreditMix.where(pd.notnull(credit_data.CreditMix), None)"
   ]
  },
  {
   "cell_type": "code",
   "execution_count": 16,
   "id": "eed51c35",
   "metadata": {},
   "outputs": [
    {
     "data": {
      "text/plain": [
       "0        None\n",
       "1        Good\n",
       "2        Good\n",
       "3        Good\n",
       "4        Good\n",
       "         ... \n",
       "99995    None\n",
       "99996    None\n",
       "99997    Good\n",
       "99998    Good\n",
       "99999    Good\n",
       "Name: CreditMix, Length: 100000, dtype: object"
      ]
     },
     "execution_count": 16,
     "metadata": {},
     "output_type": "execute_result"
    }
   ],
   "source": [
    "credit_data.CreditMix"
   ]
  },
  {
   "cell_type": "code",
   "execution_count": 17,
   "id": "42c8d878",
   "metadata": {},
   "outputs": [],
   "source": [
    "gcid=credit_data.groupby(('Customer_ID'),as_index=False)"
   ]
  },
  {
   "cell_type": "markdown",
   "id": "c02b3065",
   "metadata": {},
   "source": [
    "## Imputing Name"
   ]
  },
  {
   "cell_type": "code",
   "execution_count": 18,
   "id": "94005bdd",
   "metadata": {},
   "outputs": [],
   "source": [
    "name_df = pd.DataFrame()\n",
    "for key, item in gcid:\n",
    "    flag=0\n",
    "    ## Imputing Name\n",
    "    if item.Name.isnull().sum()>0:\n",
    "        count=0\n",
    "        for i in range(len(item.Name)):\n",
    "            if item.Name.iloc[i] is not None:\n",
    "                count=1\n",
    "                impute_name = item.Name.iloc[i]\n",
    "                break\n",
    "        if count:\n",
    "            for i in range(len(item.Name)):\n",
    "                if item.Name.iloc[i] is None:\n",
    "                    item.Name.iloc[i] = impute_name\n",
    "        else:\n",
    "            flag=1\n",
    "            \n",
    "    if not flag:\n",
    "        name_df = pd.concat([name_df,item])\n",
    "#print(name_df)"
   ]
  },
  {
   "cell_type": "code",
   "execution_count": 19,
   "id": "e2ead19c",
   "metadata": {},
   "outputs": [],
   "source": [
    "name_df.to_csv(\"Output_1.csv\")"
   ]
  },
  {
   "cell_type": "markdown",
   "id": "896307ce",
   "metadata": {},
   "source": [
    "## Imputing Age"
   ]
  },
  {
   "cell_type": "code",
   "execution_count": 22,
   "id": "6ad78e6e",
   "metadata": {},
   "outputs": [],
   "source": [
    "age_df = pd.DataFrame()\n",
    "for key, item in gcid:\n",
    "    flag=0\n",
    "    ## Imputing Name\n",
    "    if item.Age.isnull().sum()>0:\n",
    "        count=0\n",
    "        for i in range(len(item.Age)):\n",
    "            if not np.isnan(item.Age.iloc[i]):\n",
    "                count=1\n",
    "                impute_age = item.Age.iloc[i]\n",
    "                break\n",
    "        if count:\n",
    "            for i in range(len(item.Age)):\n",
    "                if np.isnan(item.Age.iloc[i]):\n",
    "                    item.Age.iloc[i] = impute_age\n",
    "        else:\n",
    "            item.Age.iloc[i]=np.nan\n",
    "            \n",
    "    \n",
    "    age_df = pd.concat([age_df,item])\n",
    "#print(age_df)"
   ]
  },
  {
   "cell_type": "code",
   "execution_count": 23,
   "id": "26964166",
   "metadata": {},
   "outputs": [],
   "source": [
    "age_df.to_csv(\"Output_2_Age.csv\")"
   ]
  },
  {
   "cell_type": "code",
   "execution_count": 24,
   "id": "ee4b5b52",
   "metadata": {},
   "outputs": [
    {
     "data": {
      "text/plain": [
       "0"
      ]
     },
     "execution_count": 24,
     "metadata": {},
     "output_type": "execute_result"
    }
   ],
   "source": [
    "age_df.Age.isnull().sum()"
   ]
  },
  {
   "cell_type": "markdown",
   "id": "45dca0ba",
   "metadata": {},
   "source": [
    "## Imputing SSN"
   ]
  },
  {
   "cell_type": "code",
   "execution_count": 25,
   "id": "74932afe",
   "metadata": {},
   "outputs": [],
   "source": [
    "credit_data.SSN = credit_data.SSN.where(pd.notnull(credit_data.SSN), None)"
   ]
  },
  {
   "cell_type": "code",
   "execution_count": 26,
   "id": "abde9ad0",
   "metadata": {},
   "outputs": [],
   "source": [
    "ssn_df = pd.DataFrame()\n",
    "for key, item in gcid:\n",
    "    flag=0\n",
    "    ## Imputing Name\n",
    "    if item.SSN.isnull().sum()>0:\n",
    "        count=0\n",
    "        for i in range(len(item.SSN)):\n",
    "            if item.SSN.iloc[i] is not None:\n",
    "                count=1\n",
    "                impute_ssn = item.SSN.iloc[i]\n",
    "                break\n",
    "        if count:\n",
    "            for i in range(len(item.SSN)):\n",
    "                if item.SSN.iloc[i] is None:\n",
    "                    item.SSN.iloc[i] = impute_ssn\n",
    "        else:\n",
    "            item.SSN.iloc[i]=None\n",
    "            \n",
    "    \n",
    "    ssn_df = pd.concat([ssn_df,item])\n",
    "#print(ssn_df)"
   ]
  },
  {
   "cell_type": "code",
   "execution_count": 27,
   "id": "621e0f66",
   "metadata": {},
   "outputs": [],
   "source": [
    "ssn_df.to_csv(\"Output_3_SSN.csv\")"
   ]
  },
  {
   "cell_type": "code",
   "execution_count": 28,
   "id": "2cab37f0",
   "metadata": {},
   "outputs": [
    {
     "data": {
      "text/plain": [
       "0"
      ]
     },
     "execution_count": 28,
     "metadata": {},
     "output_type": "execute_result"
    }
   ],
   "source": [
    "ssn_df.SSN.isnull().sum()"
   ]
  },
  {
   "cell_type": "markdown",
   "id": "2da584d2",
   "metadata": {},
   "source": [
    "## Imputing Occupation"
   ]
  },
  {
   "cell_type": "code",
   "execution_count": 29,
   "id": "323f06cf",
   "metadata": {},
   "outputs": [],
   "source": [
    "credit_data.Occupation = credit_data.Occupation.where(pd.notnull(credit_data.Occupation), None)"
   ]
  },
  {
   "cell_type": "code",
   "execution_count": 30,
   "id": "ab5909fd",
   "metadata": {},
   "outputs": [],
   "source": [
    "occupation_df = pd.DataFrame()\n",
    "for key, item in gcid:\n",
    "    flag=0\n",
    "    ## Imputing Name\n",
    "    if item.Occupation.isnull().sum()>0:\n",
    "        count=0\n",
    "        for i in range(len(item.Occupation)):\n",
    "            if item.Occupation.iloc[i] is not None:\n",
    "                count=1\n",
    "                impute_occupation = item.Occupation.iloc[i]\n",
    "                break\n",
    "        if count:\n",
    "            for i in range(len(item.Occupation)):\n",
    "                if item.Occupation.iloc[i] is None:\n",
    "                    item.Occupation.iloc[i] = impute_occupation\n",
    "        else:\n",
    "            item.Occupation.iloc[i]=None\n",
    "            \n",
    "    \n",
    "    occupation_df = pd.concat([occupation_df,item])\n",
    "#print(occupation_df)"
   ]
  },
  {
   "cell_type": "code",
   "execution_count": 31,
   "id": "fec7ceb5",
   "metadata": {},
   "outputs": [
    {
     "data": {
      "text/plain": [
       "0"
      ]
     },
     "execution_count": 31,
     "metadata": {},
     "output_type": "execute_result"
    }
   ],
   "source": [
    "occupation_df.Occupation.isnull().sum()"
   ]
  },
  {
   "cell_type": "code",
   "execution_count": 32,
   "id": "d4998ab3",
   "metadata": {},
   "outputs": [],
   "source": [
    "occupation_df.to_csv(\"Output_4_Occupation.csv\")"
   ]
  },
  {
   "cell_type": "markdown",
   "id": "f7b5151d",
   "metadata": {},
   "source": [
    "## Imputing Monthly Inhand Salary"
   ]
  },
  {
   "cell_type": "code",
   "execution_count": 33,
   "id": "bfd2e200",
   "metadata": {},
   "outputs": [],
   "source": [
    "inhand_df = pd.DataFrame()\n",
    "for key, item in gcid:\n",
    "    flag=0\n",
    "    ## Imputing Name\n",
    "    if item.Monthly_Inhand_Salary.isnull().sum()>0:\n",
    "        count=0\n",
    "        for i in range(len(item.Monthly_Inhand_Salary)):\n",
    "            if not np.isnan(item.Monthly_Inhand_Salary.iloc[i]):\n",
    "                count=1\n",
    "                impute_inhand = item.Monthly_Inhand_Salary.iloc[i]\n",
    "                break\n",
    "        if count:\n",
    "            for i in range(len(item.Monthly_Inhand_Salary)):\n",
    "                if np.isnan(item.Monthly_Inhand_Salary.iloc[i]):\n",
    "                    item.Monthly_Inhand_Salary.iloc[i] = impute_inhand\n",
    "        else:\n",
    "            item.Monthly_Inhand_Salary.iloc[i]=np.nan\n",
    "            \n",
    "    \n",
    "    inhand_df = pd.concat([inhand_df,item])\n",
    "#print(inhand_df)"
   ]
  },
  {
   "cell_type": "code",
   "execution_count": 34,
   "id": "37d30a0a",
   "metadata": {},
   "outputs": [
    {
     "data": {
      "text/plain": [
       "0"
      ]
     },
     "execution_count": 34,
     "metadata": {},
     "output_type": "execute_result"
    }
   ],
   "source": [
    "inhand_df.Monthly_Inhand_Salary.isnull().sum()"
   ]
  },
  {
   "cell_type": "code",
   "execution_count": 35,
   "id": "67bf4bfe",
   "metadata": {},
   "outputs": [],
   "source": [
    "inhand_df.to_csv(\"Output_5_Inhand_Salary.csv\")"
   ]
  },
  {
   "cell_type": "markdown",
   "id": "3103cced",
   "metadata": {},
   "source": [
    "## Imputing Number of bank accounts"
   ]
  },
  {
   "cell_type": "code",
   "execution_count": 36,
   "id": "3e27b593",
   "metadata": {},
   "outputs": [],
   "source": [
    "bank_acc_df = pd.DataFrame()\n",
    "for key, item in gcid:\n",
    "    flag=0\n",
    "    ## Imputing Name\n",
    "    if item.Num_Bank_Accounts.isnull().sum()>0:\n",
    "        count=0\n",
    "        for i in range(len(item.Num_Bank_Accounts)):\n",
    "            if not np.isnan(item.Num_Bank_Accounts.iloc[i]):\n",
    "                count=1\n",
    "                impute_bank_acc = item.Num_Bank_Accounts.iloc[i]\n",
    "                break\n",
    "        if count:\n",
    "            for i in range(len(item.Num_Bank_Accounts)):\n",
    "                if np.isnan(item.Num_Bank_Accounts.iloc[i]):\n",
    "                    item.Num_Bank_Accounts.iloc[i] = impute_bank_acc\n",
    "        else:\n",
    "            item.Num_Bank_Accounts.iloc[i]=np.nan\n",
    "            \n",
    "    \n",
    "    bank_acc_df = pd.concat([bank_acc_df,item])\n",
    "#print(age_df)"
   ]
  },
  {
   "cell_type": "code",
   "execution_count": 37,
   "id": "b20a69dc",
   "metadata": {},
   "outputs": [],
   "source": [
    "bank_acc_df.to_csv(\"Output_6_Bank_Account.csv\")"
   ]
  },
  {
   "cell_type": "code",
   "execution_count": 38,
   "id": "f5ea8a04",
   "metadata": {},
   "outputs": [
    {
     "data": {
      "text/plain": [
       "0"
      ]
     },
     "execution_count": 38,
     "metadata": {},
     "output_type": "execute_result"
    }
   ],
   "source": [
    "bank_acc_df.Num_Bank_Accounts.isnull().sum()"
   ]
  },
  {
   "cell_type": "markdown",
   "id": "7f064100",
   "metadata": {},
   "source": [
    "## Imputing Number of Credit Cards"
   ]
  },
  {
   "cell_type": "code",
   "execution_count": 39,
   "id": "d03ae3ae",
   "metadata": {},
   "outputs": [],
   "source": [
    "credit_card_df = pd.DataFrame()\n",
    "for key, item in gcid:\n",
    "    flag=0\n",
    "    ## Imputing Name\n",
    "    if item.Num_Credit_Card.isnull().sum()>0:\n",
    "        count=0\n",
    "        for i in range(len(item.Num_Credit_Card)):\n",
    "            if not np.isnan(item.Num_Credit_Card.iloc[i]):\n",
    "                count=1\n",
    "                impute_credit_card = item.Num_Credit_Card.iloc[i]\n",
    "                break\n",
    "        if count:\n",
    "            for i in range(len(item.Num_Credit_Card)):\n",
    "                if np.isnan(item.Num_Credit_Card.iloc[i]):\n",
    "                    item.Num_Credit_Card.iloc[i] = impute_credit_card\n",
    "        else:\n",
    "            item.Num_Credit_Card.iloc[i]=np.nan\n",
    "            \n",
    "    \n",
    "    credit_card_df = pd.concat([credit_card_df,item])\n",
    "#print(age_df)"
   ]
  },
  {
   "cell_type": "code",
   "execution_count": 40,
   "id": "51b127de",
   "metadata": {},
   "outputs": [],
   "source": [
    "bank_acc_df.to_csv(\"Output_7_Credit_Card.csv\")"
   ]
  },
  {
   "cell_type": "code",
   "execution_count": 41,
   "id": "00fe4929",
   "metadata": {},
   "outputs": [
    {
     "data": {
      "text/plain": [
       "2307"
      ]
     },
     "execution_count": 41,
     "metadata": {},
     "output_type": "execute_result"
    }
   ],
   "source": [
    "bank_acc_df.Num_Credit_Card.isnull().sum()"
   ]
  },
  {
   "cell_type": "markdown",
   "id": "7e19acac",
   "metadata": {},
   "source": [
    "## Imputing Interest Rates"
   ]
  },
  {
   "cell_type": "code",
   "execution_count": 42,
   "id": "d4913ebb",
   "metadata": {},
   "outputs": [],
   "source": [
    "interest_rate_df = pd.DataFrame()\n",
    "for key, item in gcid:\n",
    "    flag=0\n",
    "    ## Imputing Name\n",
    "    if item.Interest_Rate.isnull().sum()>0:\n",
    "        count=0\n",
    "        for i in range(len(item.Interest_Rate)):\n",
    "            if not np.isnan(item.Interest_Rate.iloc[i]):\n",
    "                count=1\n",
    "                impute_interest_rate = item.Interest_Rate.iloc[i]\n",
    "                break\n",
    "        if count:\n",
    "            for i in range(len(item.Interest_Rate)):\n",
    "                if np.isnan(item.Interest_Rate.iloc[i]):\n",
    "                    item.Interest_Rate.iloc[i] = impute_interest_rate\n",
    "        else:\n",
    "            item.Interest_Rate.iloc[i]=np.nan\n",
    "            \n",
    "    \n",
    "    interest_rate_df = pd.concat([interest_rate_df,item])\n",
    "#print(age_df)"
   ]
  },
  {
   "cell_type": "code",
   "execution_count": 43,
   "id": "14acf45e",
   "metadata": {},
   "outputs": [],
   "source": [
    "interest_rate_df.to_csv(\"Output_8_Interest_Rate.csv\")"
   ]
  },
  {
   "cell_type": "code",
   "execution_count": 44,
   "id": "096e0eac",
   "metadata": {},
   "outputs": [
    {
     "data": {
      "text/plain": [
       "0"
      ]
     },
     "execution_count": 44,
     "metadata": {},
     "output_type": "execute_result"
    }
   ],
   "source": [
    "interest_rate_df.Interest_Rate.isnull().sum()"
   ]
  },
  {
   "cell_type": "markdown",
   "id": "bf51f8cb",
   "metadata": {},
   "source": [
    "## Imputing Number of Loans"
   ]
  },
  {
   "cell_type": "code",
   "execution_count": 45,
   "id": "f9842d45",
   "metadata": {},
   "outputs": [],
   "source": [
    "numofloan_df = pd.DataFrame()\n",
    "for key, item in gcid:\n",
    "    flag=0\n",
    "    ## Imputing Name\n",
    "    if item.NumofLoan.isnull().sum()>0:\n",
    "        count=0\n",
    "        for i in range(len(item.NumofLoan)):\n",
    "            if not np.isnan(item.NumofLoan.iloc[i]):\n",
    "                count=1\n",
    "                impute_num_loan = item.NumofLoan.iloc[i]\n",
    "                break\n",
    "        if count:\n",
    "            for i in range(len(item.NumofLoan)):\n",
    "                if np.isnan(item.NumofLoan.iloc[i]):\n",
    "                    item.NumofLoan.iloc[i] = impute_num_loan\n",
    "        else:\n",
    "            item.NumofLoan.iloc[i]=np.nan\n",
    "            \n",
    "    \n",
    "    numofloan_df = pd.concat([numofloan_df,item])\n",
    "#print(age_df)"
   ]
  },
  {
   "cell_type": "code",
   "execution_count": 46,
   "id": "eb54938a",
   "metadata": {},
   "outputs": [],
   "source": [
    "numofloan_df.to_csv(\"Output_9_Num_Of_Loan.csv\")"
   ]
  },
  {
   "cell_type": "code",
   "execution_count": 47,
   "id": "c07ae3ef",
   "metadata": {},
   "outputs": [
    {
     "data": {
      "text/plain": [
       "11408"
      ]
     },
     "execution_count": 47,
     "metadata": {},
     "output_type": "execute_result"
    }
   ],
   "source": [
    "numofloan_df.NumofLoan.isnull().sum()"
   ]
  },
  {
   "cell_type": "markdown",
   "id": "f7a5d972",
   "metadata": {},
   "source": [
    "## Imputing Type of Loan"
   ]
  },
  {
   "cell_type": "code",
   "execution_count": 48,
   "id": "26ae507b",
   "metadata": {},
   "outputs": [],
   "source": [
    "credit_data.Type_of_Loan = credit_data.Type_of_Loan.where(pd.notnull(credit_data.Type_of_Loan), None)"
   ]
  },
  {
   "cell_type": "code",
   "execution_count": 49,
   "id": "887eca94",
   "metadata": {},
   "outputs": [],
   "source": [
    "loan_df = pd.DataFrame()\n",
    "for key, item in gcid:\n",
    "    flag=0\n",
    "    ## Imputing Name\n",
    "    if item.Type_of_Loan.isnull().sum()>0:\n",
    "        count=0\n",
    "        for i in range(len(item.Type_of_Loan)):\n",
    "            if item.Type_of_Loan.iloc[i] is not None:\n",
    "                count=1\n",
    "                impute_loan = item.Type_of_Loan.iloc[i]\n",
    "                break\n",
    "        if count:\n",
    "            for i in range(len(item.Type_of_Loan)):\n",
    "                if item.Type_of_Loan.iloc[i] is None:\n",
    "                    item.Type_of_Loan.iloc[i] = impute_loan\n",
    "        else:\n",
    "            item.Type_of_Loan.iloc[i]=None\n",
    "            \n",
    "    \n",
    "    loan_df = pd.concat([loan_df,item])\n",
    "#print(loan_df)"
   ]
  },
  {
   "cell_type": "code",
   "execution_count": 50,
   "id": "af3e30e6",
   "metadata": {},
   "outputs": [
    {
     "data": {
      "text/plain": [
       "11408"
      ]
     },
     "execution_count": 50,
     "metadata": {},
     "output_type": "execute_result"
    }
   ],
   "source": [
    "loan_df.Type_of_Loan.isnull().sum()"
   ]
  },
  {
   "cell_type": "code",
   "execution_count": 51,
   "id": "a83dbaf4",
   "metadata": {},
   "outputs": [],
   "source": [
    "### Type of loan has all None"
   ]
  },
  {
   "cell_type": "code",
   "execution_count": 52,
   "id": "594e1d52",
   "metadata": {},
   "outputs": [],
   "source": [
    "loan_df.to_csv(\"Output_10_Loan_Type.csv\")"
   ]
  },
  {
   "cell_type": "markdown",
   "id": "ee7d8511",
   "metadata": {},
   "source": [
    "## Imputing Num of Delayed Payments"
   ]
  },
  {
   "cell_type": "code",
   "execution_count": 53,
   "id": "06780660",
   "metadata": {},
   "outputs": [],
   "source": [
    "delayed_df=pd.DataFrame()\n",
    "for key, item in gcid:\n",
    "    if item.NumofDelayedPayment.isnull().sum()>0:                \n",
    "        item.NumofDelayedPayment = item.NumofDelayedPayment.fillna(item.NumofDelayedPayment.median())\n",
    "        \n",
    "    delayed_df = pd.concat([delayed_df,item])\n",
    "#delayed_df"
   ]
  },
  {
   "cell_type": "code",
   "execution_count": 54,
   "id": "96c3205c",
   "metadata": {},
   "outputs": [
    {
     "data": {
      "text/plain": [
       "0"
      ]
     },
     "execution_count": 54,
     "metadata": {},
     "output_type": "execute_result"
    }
   ],
   "source": [
    "delayed_df.NumofDelayedPayment.isnull().sum()"
   ]
  },
  {
   "cell_type": "code",
   "execution_count": 55,
   "id": "ca459301",
   "metadata": {},
   "outputs": [],
   "source": [
    "delayed_df.to_csv(\"Output_11_Delayed_Payment.csv\")"
   ]
  },
  {
   "cell_type": "markdown",
   "id": "6532f22b",
   "metadata": {},
   "source": [
    "## Imputing Changed Credit Limit"
   ]
  },
  {
   "cell_type": "code",
   "execution_count": 56,
   "id": "dcc3ba99",
   "metadata": {},
   "outputs": [],
   "source": [
    "credit_change_df=pd.DataFrame()\n",
    "for key, item in gcid:\n",
    "    if item.ChangedCreditLimit.isnull().sum()>0:                \n",
    "        item.ChangedCreditLimit = item.ChangedCreditLimit.fillna(item.ChangedCreditLimit.median())\n",
    "        \n",
    "    credit_change_df = pd.concat([credit_change_df,item])\n",
    "#credit_change_df"
   ]
  },
  {
   "cell_type": "code",
   "execution_count": 57,
   "id": "d5b4c9c2",
   "metadata": {},
   "outputs": [
    {
     "data": {
      "text/plain": [
       "0"
      ]
     },
     "execution_count": 57,
     "metadata": {},
     "output_type": "execute_result"
    }
   ],
   "source": [
    "credit_change_df.ChangedCreditLimit.isnull().sum()"
   ]
  },
  {
   "cell_type": "code",
   "execution_count": 58,
   "id": "eae399d9",
   "metadata": {},
   "outputs": [],
   "source": [
    "credit_change_df.to_csv(\"Output_12_Credit_Change.csv\")"
   ]
  },
  {
   "cell_type": "markdown",
   "id": "46fef641",
   "metadata": {},
   "source": [
    "## Imputing Num Credit Inquiries"
   ]
  },
  {
   "cell_type": "code",
   "execution_count": 59,
   "id": "abb1850f",
   "metadata": {},
   "outputs": [],
   "source": [
    "credit_df=pd.DataFrame()\n",
    "for key, item in gcid:\n",
    "    if item.Num_Credit_Inquiries.isnull().sum()>0:                \n",
    "        item.Num_Credit_Inquiries = item.Num_Credit_Inquiries.fillna(item.Num_Credit_Inquiries.median())\n",
    "        \n",
    "    credit_df = pd.concat([credit_df,item])\n",
    "#credit_df"
   ]
  },
  {
   "cell_type": "code",
   "execution_count": 60,
   "id": "f4266ba9",
   "metadata": {},
   "outputs": [
    {
     "data": {
      "text/plain": [
       "0"
      ]
     },
     "execution_count": 60,
     "metadata": {},
     "output_type": "execute_result"
    }
   ],
   "source": [
    "credit_df.Num_Credit_Inquiries.isnull().sum()"
   ]
  },
  {
   "cell_type": "code",
   "execution_count": 61,
   "id": "e990ce01",
   "metadata": {},
   "outputs": [],
   "source": [
    "credit_df.to_csv(\"Output_13_Credit_Inquiries.csv\")"
   ]
  },
  {
   "cell_type": "markdown",
   "id": "3468198a",
   "metadata": {},
   "source": [
    "## Imputing Credit Mix"
   ]
  },
  {
   "cell_type": "code",
   "execution_count": 62,
   "id": "77598a79",
   "metadata": {},
   "outputs": [],
   "source": [
    "credit_mix_df=pd.DataFrame()\n",
    "for key, item in gcid:\n",
    "    if item.CreditMix.isnull().sum()>0:    \n",
    "        #print(item.CreditMix)\n",
    "        #print(\"dhshsv\")\n",
    "        item.CreditMix = item.CreditMix.fillna(item.CreditMix.mode().iloc[0])\n",
    "        \n",
    "    credit_mix_df = pd.concat([credit_mix_df,item])\n",
    "#credit_mix_df"
   ]
  },
  {
   "cell_type": "code",
   "execution_count": 63,
   "id": "2170b80e",
   "metadata": {},
   "outputs": [
    {
     "data": {
      "text/plain": [
       "0"
      ]
     },
     "execution_count": 63,
     "metadata": {},
     "output_type": "execute_result"
    }
   ],
   "source": [
    "credit_mix_df.CreditMix.isnull().sum()"
   ]
  },
  {
   "cell_type": "code",
   "execution_count": 64,
   "id": "156eeb68",
   "metadata": {},
   "outputs": [],
   "source": [
    "credit_mix_df.to_csv(\"Output_14_Credit_Mix.csv\")"
   ]
  },
  {
   "cell_type": "markdown",
   "id": "41d3e322",
   "metadata": {},
   "source": [
    "## Imputing Payment of minimum amount"
   ]
  },
  {
   "cell_type": "code",
   "execution_count": 67,
   "id": "77537c1f",
   "metadata": {},
   "outputs": [],
   "source": [
    "payment_amount_df=pd.DataFrame()\n",
    "for key, item in gcid:\n",
    "    if item.Payment_of_Min_Amount.isnull().sum()>0:    \n",
    "        #print(item.CreditMix)\n",
    "        #print(\"dhshsv\")\n",
    "        item.Payment_of_Min_Amount = item.Payment_of_Min_Amount.fillna(item.Payment_of_Min_Amount.mode().iloc[0])\n",
    "        \n",
    "    payment_amount_df = pd.concat([payment_amount_df,item])\n",
    "#payment_amount_df"
   ]
  },
  {
   "cell_type": "code",
   "execution_count": 68,
   "id": "154288b8",
   "metadata": {},
   "outputs": [
    {
     "data": {
      "text/plain": [
       "0"
      ]
     },
     "execution_count": 68,
     "metadata": {},
     "output_type": "execute_result"
    }
   ],
   "source": [
    "payment_amount_df.Payment_of_Min_Amount.isnull().sum()"
   ]
  },
  {
   "cell_type": "code",
   "execution_count": 69,
   "id": "c935f3aa",
   "metadata": {},
   "outputs": [],
   "source": [
    "payment_amount_df.to_csv(\"Output_15_Payment_Amount.csv\")"
   ]
  },
  {
   "cell_type": "markdown",
   "id": "6a2729c0",
   "metadata": {},
   "source": [
    "## Imputing Total EMI per month"
   ]
  },
  {
   "cell_type": "code",
   "execution_count": 70,
   "id": "5832bb1f",
   "metadata": {},
   "outputs": [],
   "source": [
    "total_emi_df=pd.DataFrame()\n",
    "for key, item in gcid:\n",
    "    if item.Total_EMI_per_month.isnull().sum()>0:                \n",
    "        item.Total_EMI_per_month = item.Total_EMI_per_month.fillna(item.Total_EMI_per_month.median())\n",
    "        \n",
    "    total_emi_df = pd.concat([total_emi_df,item])\n",
    "#amount_invested_df"
   ]
  },
  {
   "cell_type": "code",
   "execution_count": 71,
   "id": "45e8f614",
   "metadata": {},
   "outputs": [],
   "source": [
    "total_emi_df.to_csv(\"Output_16_Total_EMI.csv\")"
   ]
  },
  {
   "cell_type": "code",
   "execution_count": 72,
   "id": "11bede50",
   "metadata": {},
   "outputs": [
    {
     "data": {
      "text/plain": [
       "7992"
      ]
     },
     "execution_count": 72,
     "metadata": {},
     "output_type": "execute_result"
    }
   ],
   "source": [
    "total_emi_df.Total_EMI_per_month.isnull().sum()"
   ]
  },
  {
   "cell_type": "markdown",
   "id": "edbb6218",
   "metadata": {},
   "source": [
    "## Imputing Amount Invested Monthly"
   ]
  },
  {
   "cell_type": "code",
   "execution_count": 73,
   "id": "fe96cb1a",
   "metadata": {},
   "outputs": [],
   "source": [
    "amount_invested_df=pd.DataFrame()\n",
    "for key, item in gcid:\n",
    "    if item.Amount_invested_monthly.isnull().sum()>0:                \n",
    "        item.Amount_invested_monthly = item.Amount_invested_monthly.fillna(item.Amount_invested_monthly.median())\n",
    "        \n",
    "    amount_invested_df = pd.concat([amount_invested_df,item])\n",
    "#amount_invested_df"
   ]
  },
  {
   "cell_type": "code",
   "execution_count": 74,
   "id": "3eca98cd",
   "metadata": {},
   "outputs": [
    {
     "data": {
      "text/plain": [
       "0"
      ]
     },
     "execution_count": 74,
     "metadata": {},
     "output_type": "execute_result"
    }
   ],
   "source": [
    "amount_invested_df.Amount_invested_monthly.isnull().sum()"
   ]
  },
  {
   "cell_type": "code",
   "execution_count": 75,
   "id": "4a0da312",
   "metadata": {},
   "outputs": [],
   "source": [
    "amount_invested_df.to_csv(\"Output_17_Amount_Invested.csv\")"
   ]
  },
  {
   "cell_type": "markdown",
   "id": "e8b7de60",
   "metadata": {},
   "source": [
    "## Imputing Payment Behaviour"
   ]
  },
  {
   "cell_type": "code",
   "execution_count": 76,
   "id": "1458e03e",
   "metadata": {},
   "outputs": [],
   "source": [
    "payment_behaviour_df=pd.DataFrame()\n",
    "for key, item in gcid:\n",
    "    if item.Payment_Behaviour.isnull().sum()>0:    \n",
    "        item.Payment_Behaviour = item.Payment_Behaviour.fillna(item.Payment_Behaviour.mode().iloc[0])\n",
    "        \n",
    "    payment_behaviour_df = pd.concat([payment_behaviour_df,item])\n",
    "#payment_behaviour_df"
   ]
  },
  {
   "cell_type": "code",
   "execution_count": 77,
   "id": "b789251a",
   "metadata": {},
   "outputs": [
    {
     "data": {
      "text/plain": [
       "0"
      ]
     },
     "execution_count": 77,
     "metadata": {},
     "output_type": "execute_result"
    }
   ],
   "source": [
    "payment_behaviour_df.Payment_Behaviour.isnull().sum()"
   ]
  },
  {
   "cell_type": "code",
   "execution_count": 78,
   "id": "f8dfe7b6",
   "metadata": {},
   "outputs": [],
   "source": [
    "payment_behaviour_df.to_csv(\"Output_18_Payment_Behaviour.csv\")"
   ]
  },
  {
   "cell_type": "markdown",
   "id": "78ccb919",
   "metadata": {},
   "source": [
    "## Imputing Monthly Balance"
   ]
  },
  {
   "cell_type": "code",
   "execution_count": 79,
   "id": "8308b527",
   "metadata": {},
   "outputs": [],
   "source": [
    "monthly_balance_df=pd.DataFrame()\n",
    "for key, item in gcid:\n",
    "    if item.Monthly_Balance.isnull().sum()>0:                \n",
    "        item.Monthly_Balance = item.Monthly_Balance.fillna(item.Monthly_Balance.mean())\n",
    "        \n",
    "    monthly_balance_df = pd.concat([monthly_balance_df,item])\n",
    "#monthly_balance_df"
   ]
  },
  {
   "cell_type": "code",
   "execution_count": 80,
   "id": "acb69dba",
   "metadata": {},
   "outputs": [
    {
     "data": {
      "text/plain": [
       "0"
      ]
     },
     "execution_count": 80,
     "metadata": {},
     "output_type": "execute_result"
    }
   ],
   "source": [
    "monthly_balance_df.Monthly_Balance.isnull().sum()"
   ]
  },
  {
   "cell_type": "code",
   "execution_count": 81,
   "id": "728a3108",
   "metadata": {},
   "outputs": [],
   "source": [
    "monthly_balance_df.to_csv(\"Output_19_Monthly_Balance.csv\")"
   ]
  },
  {
   "cell_type": "markdown",
   "id": "f527710a",
   "metadata": {},
   "source": [
    "## Final dataframe"
   ]
  },
  {
   "cell_type": "code",
   "execution_count": 92,
   "id": "1abcea9e",
   "metadata": {},
   "outputs": [],
   "source": [
    "credit_data1=pd.read_csv(\"Output_1_1.csv\")"
   ]
  },
  {
   "cell_type": "code",
   "execution_count": 93,
   "id": "228b3bca",
   "metadata": {},
   "outputs": [
    {
     "data": {
      "text/plain": [
       "(100000, 25)"
      ]
     },
     "execution_count": 93,
     "metadata": {},
     "output_type": "execute_result"
    }
   ],
   "source": [
    "credit_data1.shape"
   ]
  },
  {
   "cell_type": "code",
   "execution_count": 94,
   "id": "189e5421",
   "metadata": {},
   "outputs": [
    {
     "data": {
      "text/plain": [
       "ID                              0\n",
       "Customer_ID                     0\n",
       "Month                           0\n",
       "Age                             0\n",
       "Occupation                      0\n",
       "AnnualIncome                    0\n",
       "Monthly_Inhand_Salary           0\n",
       "Num_Bank_Accounts            1324\n",
       "Num_Credit_Card              2307\n",
       "Interest_Rate                   0\n",
       "NumofLoan                   11408\n",
       "Type_of_Loan                11408\n",
       "Delay_from_due_date             0\n",
       "NumofDelayedPayment             0\n",
       "ChangedCreditLimit              0\n",
       "Num_Credit_Inquiries            0\n",
       "CreditMix                       0\n",
       "OutstandingDebt                 0\n",
       "Credit_Utilization_Ratio        0\n",
       "Payment_of_Min_Amount           0\n",
       "Total_EMI_per_month          7992\n",
       "Amount_invested_monthly         0\n",
       "Payment_Behaviour               0\n",
       "Monthly_Balance                 0\n",
       "Credit_Score                    0\n",
       "dtype: int64"
      ]
     },
     "execution_count": 94,
     "metadata": {},
     "output_type": "execute_result"
    }
   ],
   "source": [
    "credit_data1.isnull().sum()"
   ]
  },
  {
   "cell_type": "code",
   "execution_count": 95,
   "id": "cdec4d21",
   "metadata": {},
   "outputs": [],
   "source": [
    "credit_data1 = credit_data1.dropna()"
   ]
  },
  {
   "cell_type": "code",
   "execution_count": 96,
   "id": "465683e1",
   "metadata": {},
   "outputs": [
    {
     "data": {
      "text/plain": [
       "ID                          0\n",
       "Customer_ID                 0\n",
       "Month                       0\n",
       "Age                         0\n",
       "Occupation                  0\n",
       "AnnualIncome                0\n",
       "Monthly_Inhand_Salary       0\n",
       "Num_Bank_Accounts           0\n",
       "Num_Credit_Card             0\n",
       "Interest_Rate               0\n",
       "NumofLoan                   0\n",
       "Type_of_Loan                0\n",
       "Delay_from_due_date         0\n",
       "NumofDelayedPayment         0\n",
       "ChangedCreditLimit          0\n",
       "Num_Credit_Inquiries        0\n",
       "CreditMix                   0\n",
       "OutstandingDebt             0\n",
       "Credit_Utilization_Ratio    0\n",
       "Payment_of_Min_Amount       0\n",
       "Total_EMI_per_month         0\n",
       "Amount_invested_monthly     0\n",
       "Payment_Behaviour           0\n",
       "Monthly_Balance             0\n",
       "Credit_Score                0\n",
       "dtype: int64"
      ]
     },
     "execution_count": 96,
     "metadata": {},
     "output_type": "execute_result"
    }
   ],
   "source": [
    "credit_data1.isnull().sum()"
   ]
  },
  {
   "cell_type": "markdown",
   "id": "abb93e72",
   "metadata": {},
   "source": [
    "## Drop certain columns"
   ]
  },
  {
   "cell_type": "code",
   "execution_count": 97,
   "id": "5731da49",
   "metadata": {},
   "outputs": [],
   "source": [
    "credit_data1.to_csv(\"Final_Output_Part1.csv\")"
   ]
  },
  {
   "cell_type": "code",
   "execution_count": 98,
   "id": "f1d9e943",
   "metadata": {},
   "outputs": [
    {
     "data": {
      "text/plain": [
       "(85431, 25)"
      ]
     },
     "execution_count": 98,
     "metadata": {},
     "output_type": "execute_result"
    }
   ],
   "source": [
    "credit_data1.shape"
   ]
  },
  {
   "cell_type": "code",
   "execution_count": null,
   "id": "5828423f",
   "metadata": {},
   "outputs": [],
   "source": []
  }
 ],
 "metadata": {
  "kernelspec": {
   "display_name": "Python 3 (ipykernel)",
   "language": "python",
   "name": "python3"
  },
  "language_info": {
   "codemirror_mode": {
    "name": "ipython",
    "version": 3
   },
   "file_extension": ".py",
   "mimetype": "text/x-python",
   "name": "python",
   "nbconvert_exporter": "python",
   "pygments_lexer": "ipython3",
   "version": "3.9.0"
  }
 },
 "nbformat": 4,
 "nbformat_minor": 5
}
